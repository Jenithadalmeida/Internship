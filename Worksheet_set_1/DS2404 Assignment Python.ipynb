{
 "cells": [
  {
   "cell_type": "markdown",
   "id": "9fe5863e",
   "metadata": {},
   "source": [
    "#Write a python program to find the factorial of a number#"
   ]
  },
  {
   "cell_type": "code",
   "execution_count": 2,
   "id": "9eb42e34",
   "metadata": {},
   "outputs": [
    {
     "name": "stdout",
     "output_type": "stream",
     "text": [
      "Enter a number: 5\n",
      "Factorial of 5 is 120\n"
     ]
    }
   ],
   "source": [
    "def factorial(n):\n",
    "    if n == 0:\n",
    "        return 1\n",
    "    else:\n",
    "        return n * factorial(n-1)\n",
    "    \n",
    "# Test the function with a number\n",
    "number = int(input(\"Enter a number: \"))\n",
    "print(\"Factorial of\", number, \"is\", factorial(number))"
   ]
  },
  {
   "cell_type": "markdown",
   "id": "dd908af2",
   "metadata": {},
   "source": [
    "#Write a python program to find whether a number is prime or composite#"
   ]
  },
  {
   "cell_type": "code",
   "execution_count": 6,
   "id": "5a24c2fb",
   "metadata": {},
   "outputs": [
    {
     "name": "stdout",
     "output_type": "stream",
     "text": [
      "Enter a number: 17\n",
      "17 is a composite number\n"
     ]
    }
   ],
   "source": [
    "def is_prime(num):\n",
    "    if num <= 1:\n",
    "        return False\n",
    "    elif num <= 3:\n",
    "        return True\n",
    "    elif num % 2 == 0 or num % 3 == 0:\n",
    "        return False\n",
    "    i = 5\n",
    "    while i * i <= num:\n",
    "        if num % i == 0 or num % (i + 2) == 0:\n",
    "            return False\n",
    "        i += 6\n",
    "        return True\n",
    "    \n",
    "# Test the function with a number\n",
    "number = int(input(\"Enter a number: \"))\n",
    "if is_prime(number):\n",
    "    print(number, \"is a prime number\")\n",
    "else:\n",
    "    print(number, \"is a composite number\")\n",
    "    "
   ]
  },
  {
   "cell_type": "markdown",
   "id": "0f4f7240",
   "metadata": {},
   "source": [
    "#Write a python program to check whether a given string is palindrome or not#"
   ]
  },
  {
   "cell_type": "code",
   "execution_count": 7,
   "id": "0e0d95d6",
   "metadata": {},
   "outputs": [
    {
     "name": "stdout",
     "output_type": "stream",
     "text": [
      "Enter a string:madam\n",
      "madam is a palindrome\n"
     ]
    }
   ],
   "source": [
    "def is_palindrome(string):\n",
    "    #Convert the string to lowercase and remove spaces\n",
    "    string = string.lower().replace(\" \",\"\")\n",
    "    #compare the string with its reverse\n",
    "    return string == string[::-1]\n",
    "\n",
    "# Test the function with a string\n",
    "string = input(\"Enter a string:\")\n",
    "if is_palindrome(string):\n",
    "    print(string, \"is a palindrome\")\n",
    "else:\n",
    "    print(string, \"is not a palindrome\")\n",
    "    \n",
    "    "
   ]
  },
  {
   "cell_type": "markdown",
   "id": "b2c2392f",
   "metadata": {},
   "source": [
    "#Write a python program to get the third side of right-angled traingle from two given sides#"
   ]
  },
  {
   "cell_type": "code",
   "execution_count": 8,
   "id": "d4d96114",
   "metadata": {},
   "outputs": [
    {
     "name": "stdout",
     "output_type": "stream",
     "text": [
      "Enter the length of the first side: 3\n",
      "Enter the length of the second side: 5\n",
      "Third length of the third side of the right angled traingle is : 5.830951894845301\n"
     ]
    }
   ],
   "source": [
    "def calculate_third_side(side1, side2):\n",
    "    #Using Pythagorean theom: C^2 = a^2 + b^2\n",
    "    third_side = (side1 ** 2 + side2 ** 2) ** 0.5\n",
    "    return third_side\n",
    "\n",
    "# Test the function with two given sides\n",
    "side1 = float(input(\"Enter the length of the first side: \"))\n",
    "side2 = float(input(\"Enter the length of the second side: \"))\n",
    "\n",
    "third_side = calculate_third_side(side1, side2)\n",
    "print(\"Third length of the third side of the right angled traingle is :\", third_side)"
   ]
  },
  {
   "cell_type": "markdown",
   "id": "547d9136",
   "metadata": {},
   "source": [
    "#Write a python program to print the frequency of each of the characters present in a given string#"
   ]
  },
  {
   "cell_type": "code",
   "execution_count": 9,
   "id": "fb141aad",
   "metadata": {},
   "outputs": [
    {
     "name": "stdout",
     "output_type": "stream",
     "text": [
      "Enter a string: jenita\n",
      "Character frequency in the given string:\n",
      "'j': 1\n",
      "'e': 1\n",
      "'n': 1\n",
      "'i': 1\n",
      "'t': 1\n",
      "'a': 1\n"
     ]
    }
   ],
   "source": [
    "def character_frequency(string):\n",
    "    # Create an empty dictionary to store character frequencies\n",
    "    frequency = {}\n",
    "    \n",
    "    # Iterate through each character in the string\n",
    "    for char in string:\n",
    "        # Increment the frequnecy count for the character\n",
    "        frequency[char] = frequency.get(char, 0) + 1\n",
    "        \n",
    "    return frequency\n",
    "        \n",
    "# Test the function with a string\n",
    "input_string = input(\"Enter a string: \")\n",
    "\n",
    "# Get the character frequency dictionery\n",
    "freq_dict = character_frequency(input_string)\n",
    "\n",
    "# print the character frequency\n",
    "print(\"Character frequency in the given string:\")\n",
    "for char, freq in freq_dict.items():\n",
    "    print (f\"'{char}': {freq}\")\n",
    "    "
   ]
  },
  {
   "cell_type": "code",
   "execution_count": null,
   "id": "7a65aaa4",
   "metadata": {},
   "outputs": [],
   "source": []
  }
 ],
 "metadata": {
  "kernelspec": {
   "display_name": "Python 3 (ipykernel)",
   "language": "python",
   "name": "python3"
  },
  "language_info": {
   "codemirror_mode": {
    "name": "ipython",
    "version": 3
   },
   "file_extension": ".py",
   "mimetype": "text/x-python",
   "name": "python",
   "nbconvert_exporter": "python",
   "pygments_lexer": "ipython3",
   "version": "3.11.5"
  }
 },
 "nbformat": 4,
 "nbformat_minor": 5
}
